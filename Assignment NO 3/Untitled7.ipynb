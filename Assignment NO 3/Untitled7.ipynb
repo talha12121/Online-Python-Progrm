{
 "cells": [
  {
   "cell_type": "code",
   "execution_count": 119,
   "id": "d6009b3c",
   "metadata": {},
   "outputs": [
    {
     "name": "stdout",
     "output_type": "stream",
     "text": [
      "Twinkle,twinkle,little star,\n",
      "        How I wonder what you are!\n",
      "                Up above the world so high,\n",
      "                Like a diamond in the sky.\n",
      "Twinkle,twinkle,little star,\n",
      "        How I wonder what you are\n"
     ]
    }
   ],
   "source": [
    "#1.Write a Python program to print the following string in a specific format (see the 0utput)\n",
    "            #Twinkle,twinkle,little star,\n",
    "                    #How I wonder what you are!\n",
    "                            #Up above the world so high,\n",
    "                            #Like a diamond in the sky.\n",
    "\n",
    "            #Twinkle,twinkle,little star,\n",
    "                    #How I wonder what you are\n",
    "                \n",
    "print(\"Twinkle,twinkle,little star,\")\n",
    "print(\"        How I wonder what you are!\")\n",
    "print(\"                Up above the world so high,\")\n",
    "print(\"                Like a diamond in the sky.\")\n",
    "\n",
    "print(\"Twinkle,twinkle,little star,\")\n",
    "print(\"        How I wonder what you are\")\n"
   ]
  },
  {
   "cell_type": "code",
   "execution_count": 120,
   "id": "991a1af1",
   "metadata": {},
   "outputs": [
    {
     "name": "stdout",
     "output_type": "stream",
     "text": [
      "python version\n",
      "3.8.8 (default, Apr 13 2021, 15:08:03) [MSC v.1916 64 bit (AMD64)]\n",
      "sys.version_info(major=3, minor=8, micro=8, releaselevel='final', serial=0)\n"
     ]
    }
   ],
   "source": [
    "#2.Write a Python program to get the Python version you are using\n",
    "\n",
    "import sys\n",
    "print(\"python version\");\n",
    "print(sys.version)\n",
    "print(sys.version_info)"
   ]
  },
  {
   "cell_type": "code",
   "execution_count": 121,
   "id": "1b07596e",
   "metadata": {},
   "outputs": [
    {
     "name": "stdout",
     "output_type": "stream",
     "text": [
      "Current date and time :-  \n",
      "23-10-2021    06:56:47\n"
     ]
    }
   ],
   "source": [
    "#3.Write a Python program to display the current date and time.\n",
    "\n",
    "import datetime\n",
    "now = datetime.datetime.now()\n",
    "print(\"Current date and time :-  \")\n",
    "print(now.strftime(\"%d-%m-%Y    %H:%M:%S\"))\n"
   ]
  },
  {
   "cell_type": "code",
   "execution_count": 1,
   "id": "5216961a",
   "metadata": {},
   "outputs": [
    {
     "name": "stdout",
     "output_type": "stream",
     "text": [
      "Enter radius of a circle4\n",
      "The Area of A Circle is 50.256\n"
     ]
    }
   ],
   "source": [
    "#4.Write a Python program which accepts the radius of a circle from the user and compute the area.\n",
    "\n",
    "\n",
    "radius = int(input(\"Enter radius of a circle\"));\n",
    "pi = 3.141\n",
    "Area = pi * radius ** 2\n",
    "print(\"The Area of A Circle is\" ,Area)"
   ]
  },
  {
   "cell_type": "code",
   "execution_count": 6,
   "id": "40df4684",
   "metadata": {},
   "outputs": [
    {
     "name": "stdout",
     "output_type": "stream",
     "text": [
      "Enter your First NameMuhammad\n",
      "Enter your Last NameTalha\n",
      "Talha Muhammad\n"
     ]
    }
   ],
   "source": [
    "#5.Write a Python program which accepts the user's first and last name and print them in reverse order with a space between them.\n",
    "\n",
    "firstName = input(\"Enter your First Name\");\n",
    "lastName = input(\"Enter your Last Name\");\n",
    "print(lastName + \" \" + firstName)"
   ]
  },
  {
   "cell_type": "code",
   "execution_count": null,
   "id": "5c6c53f8",
   "metadata": {},
   "outputs": [],
   "source": []
  },
  {
   "cell_type": "code",
   "execution_count": 161,
   "id": "d4065c7d",
   "metadata": {},
   "outputs": [
    {
     "name": "stdout",
     "output_type": "stream",
     "text": [
      "Enter Number 112\n",
      "Enter Number 234\n",
      "12  +  34  = 46\n"
     ]
    }
   ],
   "source": [
    "#6.Write a python program which takes two inputs from user and print them addition.\n",
    "\n",
    "num1 = int (input(\"Enter Number 1\"));\n",
    "num2 = int (input(\"Enter Number 2\"));\n",
    "result = num1 + num2\n",
    "print(num1,\" + \",num2,\" =\",result);"
   ]
  },
  {
   "cell_type": "code",
   "execution_count": 154,
   "id": "84e1aa57",
   "metadata": {},
   "outputs": [
    {
     "name": "stdout",
     "output_type": "stream",
     "text": [
      "Enter marks obtained in Maths are90\n",
      "Enter marks obtained in English are90\n",
      "Enter marks obtained in Islamiyat are95\n",
      "Enter marks obtained in Urdu are78\n",
      "Enter marks obtained in Physics are85\n",
      "Grade A+\n"
     ]
    }
   ],
   "source": [
    "#7.Write a program which takes 5 inputs from user for different subject’s marks, total it and generate marksheet using grades?\n",
    "\n",
    "math = int (input (\"Enter marks obtained in Maths are\"));\n",
    "eng = int (input (\"Enter marks obtained in English are\"));\n",
    "isl = int (input (\"Enter marks obtained in Islamiyat are\"));\n",
    "urdu = int (input (\"Enter marks obtained in Urdu are\"));\n",
    "phys = int (input (\"Enter marks obtained in Physics are\"));\n",
    "total_marks = 500;\n",
    "marks_obt = math + eng + isl + urdu + phys;\n",
    "percentage = marks_obt * 100 / total_marks;\n",
    "\n",
    "if percentage <= 100 and percentage >= 80:\n",
    "    print(\"Grade A+\");\n",
    "elif percentage <= 80 and percentage >= 70:\n",
    "    print(\"Grade A\");\n",
    "elif percentage <= 70 and percentage >= 60:\n",
    "    print(\"Grade B\");\n",
    "elif percentage <= 60 and percentage >= 50:\n",
    "    print(\"Grade C\");\n",
    "elif percentage <= 50 and percentage >= 40:\n",
    "    print(\"Grade D\");\n",
    "elif percentage <= 40 and percentage >= 33:\n",
    "    print(\"Grade E\");\n",
    "elif percentage <= 33 and percentage >= 0:\n",
    "    print(\"Fail\");\n",
    "else:\n",
    "    print(\"percentage is not correct\")\n",
    "    \n",
    "    "
   ]
  },
  {
   "cell_type": "code",
   "execution_count": 137,
   "id": "0ef514ad",
   "metadata": {},
   "outputs": [
    {
     "name": "stdout",
     "output_type": "stream",
     "text": [
      "Enter an integer number11\n",
      "11  is an odd number\n"
     ]
    }
   ],
   "source": [
    "#8.Write a program which take input from user and identify that the given number is even or odd?\n",
    "\n",
    "number = int(input(\"Enter an integer number\"))\n",
    "remainder = number % 2\n",
    "if (remainder == 0):\n",
    "    print(number,\" is an even number\")\n",
    "else:\n",
    "    print(number,\" is an odd number\")"
   ]
  },
  {
   "cell_type": "code",
   "execution_count": 138,
   "id": "314ec57a",
   "metadata": {},
   "outputs": [
    {
     "name": "stdout",
     "output_type": "stream",
     "text": [
      "5\n"
     ]
    }
   ],
   "source": [
    "#9.Write a program which print the length of the list?\n",
    "\n",
    "lst=[\"python\",2,5,7,2.9]\n",
    "count=0\n",
    "for i in lst:\n",
    " count = count+1\n",
    "print(count)"
   ]
  },
  {
   "cell_type": "code",
   "execution_count": 118,
   "id": "962c02ed",
   "metadata": {},
   "outputs": [
    {
     "name": "stdout",
     "output_type": "stream",
     "text": [
      "68\n"
     ]
    }
   ],
   "source": [
    "#10.Write a Python program to sum all the numeric items in a list?\n",
    "\n",
    "s = 0\n",
    "list = [12,13,19,24]\n",
    "for x in list:\n",
    "    s = s + x\n",
    "print(s)\n",
    "    "
   ]
  },
  {
   "cell_type": "code",
   "execution_count": 129,
   "id": "436fb425",
   "metadata": {},
   "outputs": [
    {
     "data": {
      "text/plain": [
       "67"
      ]
     },
     "execution_count": 129,
     "metadata": {},
     "output_type": "execute_result"
    }
   ],
   "source": [
    "#11.Write a Python program to get the largest number from a numeric list.\n",
    "\n",
    "a =[22,33,55,1,67,8]\n",
    "\n",
    "max(a)"
   ]
  },
  {
   "cell_type": "code",
   "execution_count": 117,
   "id": "93a2c16a",
   "metadata": {},
   "outputs": [
    {
     "name": "stdout",
     "output_type": "stream",
     "text": [
      "1\n",
      "1\n",
      "2\n",
      "3\n"
     ]
    }
   ],
   "source": [
    "#12. Take a list, say for example this one:\n",
    "#a = [1, 1, 2, 3, 5, 8, 13, 21, 34, 55, 89]\n",
    "#Write a program that prints out all the elements of the list that are less than 5.\n",
    "\n",
    "a = [1, 1, 2, 3, 5, 8, 13, 21, 34, 55, 89];\n",
    "for x in a:\n",
    "    if x < 5:\n",
    "        print(x);"
   ]
  },
  {
   "cell_type": "code",
   "execution_count": null,
   "id": "196bf9d3",
   "metadata": {},
   "outputs": [],
   "source": []
  }
 ],
 "metadata": {
  "kernelspec": {
   "display_name": "Python 3",
   "language": "python",
   "name": "python3"
  },
  "language_info": {
   "codemirror_mode": {
    "name": "ipython",
    "version": 3
   },
   "file_extension": ".py",
   "mimetype": "text/x-python",
   "name": "python",
   "nbconvert_exporter": "python",
   "pygments_lexer": "ipython3",
   "version": "3.8.8"
  }
 },
 "nbformat": 4,
 "nbformat_minor": 5
}
